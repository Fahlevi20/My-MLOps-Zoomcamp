{
 "cells": [
  {
   "cell_type": "code",
   "execution_count": 1,
   "id": "1d6ae84c",
   "metadata": {},
   "outputs": [],
   "source": [
    "import pandas as pd\n",
    "import seaborn as sns\n",
    "import mlflow"
   ]
  },
  {
   "cell_type": "code",
   "execution_count": 2,
   "id": "7a10f356",
   "metadata": {},
   "outputs": [],
   "source": [
    "import numpy as np"
   ]
  },
  {
   "cell_type": "code",
   "execution_count": 3,
   "id": "58592a8e",
   "metadata": {},
   "outputs": [],
   "source": [
    "import pickle\n",
    "import seaborn as sns\n",
    "import matplotlib.pyplot as plt\n",
    "from sklearn.feature_extraction import DictVectorizer\n",
    "from sklearn.linear_model import LinearRegression\n",
    "from sklearn.linear_model import Lasso\n",
    "from sklearn.linear_model import Ridge\n",
    "\n",
    "from sklearn.metrics import mean_squared_error"
   ]
  },
  {
   "cell_type": "code",
   "execution_count": 4,
   "id": "3712e63e",
   "metadata": {},
   "outputs": [
    {
     "data": {
      "text/plain": [
       "<Experiment: artifact_location='file:c:/Users/rozak/Downloads/projects/My-MLOps-Zoomcamp/mlruns/1', creation_time=1743230295117, experiment_id='1', last_update_time=1743230295117, lifecycle_stage='active', name='nyc-taxi-experiments', tags={}>"
      ]
     },
     "execution_count": 4,
     "metadata": {},
     "output_type": "execute_result"
    }
   ],
   "source": [
    "mlflow.set_tracking_uri('sqlite:///mlflow.db')\n",
    "mlflow.set_experiment('nyc-taxi-experiments')"
   ]
  },
  {
   "cell_type": "code",
   "execution_count": 5,
   "id": "5d8601c3",
   "metadata": {},
   "outputs": [],
   "source": [
    "df=pd.read_parquet(\"https://d37ci6vzurychx.cloudfront.net/trip-data/yellow_tripdata_2024-01.parquet\")"
   ]
  },
  {
   "cell_type": "code",
   "execution_count": 5,
   "id": "030a4f54",
   "metadata": {},
   "outputs": [],
   "source": [
    "def read_dataframe(filename):\n",
    "    df = pd.read_parquet(filename)\n",
    "\n",
    "    df.tpep_dropoff_datetime = pd.to_datetime(df.tpep_dropoff_datetime)\n",
    "    df.tpep_pickup_datetime = pd.to_datetime(df.tpep_pickup_datetime)\n",
    "\n",
    "    df['duration'] = df.tpep_dropoff_datetime - df.tpep_pickup_datetime\n",
    "    df.duration = df.duration.apply(lambda td: td.total_seconds() / 60)\n",
    "\n",
    "    df = df[(df.duration >= 1) & (df.duration <= 60)]\n",
    "\n",
    "    categorical = ['PULocationID', 'DOLocationID']\n",
    "    df[categorical] = df[categorical].astype(str)\n",
    "    \n",
    "    return df"
   ]
  },
  {
   "cell_type": "code",
   "execution_count": 6,
   "id": "53fb161a",
   "metadata": {},
   "outputs": [],
   "source": [
    "df_train = read_dataframe('yellow_tripdata_2024-01.parquet')\n",
    "df_val = read_dataframe('yellow_tripdata_2024-02.parquet')"
   ]
  },
  {
   "cell_type": "code",
   "execution_count": 7,
   "id": "2aca23fe",
   "metadata": {},
   "outputs": [
    {
     "data": {
      "text/html": [
       "<div>\n",
       "<style scoped>\n",
       "    .dataframe tbody tr th:only-of-type {\n",
       "        vertical-align: middle;\n",
       "    }\n",
       "\n",
       "    .dataframe tbody tr th {\n",
       "        vertical-align: top;\n",
       "    }\n",
       "\n",
       "    .dataframe thead th {\n",
       "        text-align: right;\n",
       "    }\n",
       "</style>\n",
       "<table border=\"1\" class=\"dataframe\">\n",
       "  <thead>\n",
       "    <tr style=\"text-align: right;\">\n",
       "      <th></th>\n",
       "      <th>VendorID</th>\n",
       "      <th>tpep_pickup_datetime</th>\n",
       "      <th>tpep_dropoff_datetime</th>\n",
       "      <th>passenger_count</th>\n",
       "      <th>trip_distance</th>\n",
       "      <th>RatecodeID</th>\n",
       "      <th>store_and_fwd_flag</th>\n",
       "      <th>PULocationID</th>\n",
       "      <th>DOLocationID</th>\n",
       "      <th>payment_type</th>\n",
       "      <th>fare_amount</th>\n",
       "      <th>extra</th>\n",
       "      <th>mta_tax</th>\n",
       "      <th>tip_amount</th>\n",
       "      <th>tolls_amount</th>\n",
       "      <th>improvement_surcharge</th>\n",
       "      <th>total_amount</th>\n",
       "      <th>congestion_surcharge</th>\n",
       "      <th>Airport_fee</th>\n",
       "      <th>duration</th>\n",
       "    </tr>\n",
       "  </thead>\n",
       "  <tbody>\n",
       "    <tr>\n",
       "      <th>0</th>\n",
       "      <td>2</td>\n",
       "      <td>2024-01-01 00:57:55</td>\n",
       "      <td>2024-01-01 01:17:43</td>\n",
       "      <td>1.0</td>\n",
       "      <td>1.72</td>\n",
       "      <td>1.0</td>\n",
       "      <td>N</td>\n",
       "      <td>186</td>\n",
       "      <td>79</td>\n",
       "      <td>2</td>\n",
       "      <td>17.70</td>\n",
       "      <td>1.00</td>\n",
       "      <td>0.5</td>\n",
       "      <td>0.00</td>\n",
       "      <td>0.00</td>\n",
       "      <td>1.0</td>\n",
       "      <td>22.70</td>\n",
       "      <td>2.5</td>\n",
       "      <td>0.0</td>\n",
       "      <td>19.800000</td>\n",
       "    </tr>\n",
       "    <tr>\n",
       "      <th>1</th>\n",
       "      <td>1</td>\n",
       "      <td>2024-01-01 00:03:00</td>\n",
       "      <td>2024-01-01 00:09:36</td>\n",
       "      <td>1.0</td>\n",
       "      <td>1.80</td>\n",
       "      <td>1.0</td>\n",
       "      <td>N</td>\n",
       "      <td>140</td>\n",
       "      <td>236</td>\n",
       "      <td>1</td>\n",
       "      <td>10.00</td>\n",
       "      <td>3.50</td>\n",
       "      <td>0.5</td>\n",
       "      <td>3.75</td>\n",
       "      <td>0.00</td>\n",
       "      <td>1.0</td>\n",
       "      <td>18.75</td>\n",
       "      <td>2.5</td>\n",
       "      <td>0.0</td>\n",
       "      <td>6.600000</td>\n",
       "    </tr>\n",
       "    <tr>\n",
       "      <th>2</th>\n",
       "      <td>1</td>\n",
       "      <td>2024-01-01 00:17:06</td>\n",
       "      <td>2024-01-01 00:35:01</td>\n",
       "      <td>1.0</td>\n",
       "      <td>4.70</td>\n",
       "      <td>1.0</td>\n",
       "      <td>N</td>\n",
       "      <td>236</td>\n",
       "      <td>79</td>\n",
       "      <td>1</td>\n",
       "      <td>23.30</td>\n",
       "      <td>3.50</td>\n",
       "      <td>0.5</td>\n",
       "      <td>3.00</td>\n",
       "      <td>0.00</td>\n",
       "      <td>1.0</td>\n",
       "      <td>31.30</td>\n",
       "      <td>2.5</td>\n",
       "      <td>0.0</td>\n",
       "      <td>17.916667</td>\n",
       "    </tr>\n",
       "    <tr>\n",
       "      <th>3</th>\n",
       "      <td>1</td>\n",
       "      <td>2024-01-01 00:36:38</td>\n",
       "      <td>2024-01-01 00:44:56</td>\n",
       "      <td>1.0</td>\n",
       "      <td>1.40</td>\n",
       "      <td>1.0</td>\n",
       "      <td>N</td>\n",
       "      <td>79</td>\n",
       "      <td>211</td>\n",
       "      <td>1</td>\n",
       "      <td>10.00</td>\n",
       "      <td>3.50</td>\n",
       "      <td>0.5</td>\n",
       "      <td>2.00</td>\n",
       "      <td>0.00</td>\n",
       "      <td>1.0</td>\n",
       "      <td>17.00</td>\n",
       "      <td>2.5</td>\n",
       "      <td>0.0</td>\n",
       "      <td>8.300000</td>\n",
       "    </tr>\n",
       "    <tr>\n",
       "      <th>4</th>\n",
       "      <td>1</td>\n",
       "      <td>2024-01-01 00:46:51</td>\n",
       "      <td>2024-01-01 00:52:57</td>\n",
       "      <td>1.0</td>\n",
       "      <td>0.80</td>\n",
       "      <td>1.0</td>\n",
       "      <td>N</td>\n",
       "      <td>211</td>\n",
       "      <td>148</td>\n",
       "      <td>1</td>\n",
       "      <td>7.90</td>\n",
       "      <td>3.50</td>\n",
       "      <td>0.5</td>\n",
       "      <td>3.20</td>\n",
       "      <td>0.00</td>\n",
       "      <td>1.0</td>\n",
       "      <td>16.10</td>\n",
       "      <td>2.5</td>\n",
       "      <td>0.0</td>\n",
       "      <td>6.100000</td>\n",
       "    </tr>\n",
       "    <tr>\n",
       "      <th>...</th>\n",
       "      <td>...</td>\n",
       "      <td>...</td>\n",
       "      <td>...</td>\n",
       "      <td>...</td>\n",
       "      <td>...</td>\n",
       "      <td>...</td>\n",
       "      <td>...</td>\n",
       "      <td>...</td>\n",
       "      <td>...</td>\n",
       "      <td>...</td>\n",
       "      <td>...</td>\n",
       "      <td>...</td>\n",
       "      <td>...</td>\n",
       "      <td>...</td>\n",
       "      <td>...</td>\n",
       "      <td>...</td>\n",
       "      <td>...</td>\n",
       "      <td>...</td>\n",
       "      <td>...</td>\n",
       "      <td>...</td>\n",
       "    </tr>\n",
       "    <tr>\n",
       "      <th>2964619</th>\n",
       "      <td>2</td>\n",
       "      <td>2024-01-31 23:45:59</td>\n",
       "      <td>2024-01-31 23:54:36</td>\n",
       "      <td>NaN</td>\n",
       "      <td>3.18</td>\n",
       "      <td>NaN</td>\n",
       "      <td>None</td>\n",
       "      <td>107</td>\n",
       "      <td>263</td>\n",
       "      <td>0</td>\n",
       "      <td>15.77</td>\n",
       "      <td>0.00</td>\n",
       "      <td>0.5</td>\n",
       "      <td>2.00</td>\n",
       "      <td>0.00</td>\n",
       "      <td>1.0</td>\n",
       "      <td>21.77</td>\n",
       "      <td>NaN</td>\n",
       "      <td>NaN</td>\n",
       "      <td>8.616667</td>\n",
       "    </tr>\n",
       "    <tr>\n",
       "      <th>2964620</th>\n",
       "      <td>1</td>\n",
       "      <td>2024-01-31 23:13:07</td>\n",
       "      <td>2024-01-31 23:27:52</td>\n",
       "      <td>NaN</td>\n",
       "      <td>4.00</td>\n",
       "      <td>NaN</td>\n",
       "      <td>None</td>\n",
       "      <td>114</td>\n",
       "      <td>236</td>\n",
       "      <td>0</td>\n",
       "      <td>18.40</td>\n",
       "      <td>1.00</td>\n",
       "      <td>0.5</td>\n",
       "      <td>2.34</td>\n",
       "      <td>0.00</td>\n",
       "      <td>1.0</td>\n",
       "      <td>25.74</td>\n",
       "      <td>NaN</td>\n",
       "      <td>NaN</td>\n",
       "      <td>14.750000</td>\n",
       "    </tr>\n",
       "    <tr>\n",
       "      <th>2964621</th>\n",
       "      <td>2</td>\n",
       "      <td>2024-01-31 23:19:00</td>\n",
       "      <td>2024-01-31 23:38:00</td>\n",
       "      <td>NaN</td>\n",
       "      <td>3.33</td>\n",
       "      <td>NaN</td>\n",
       "      <td>None</td>\n",
       "      <td>211</td>\n",
       "      <td>25</td>\n",
       "      <td>0</td>\n",
       "      <td>19.97</td>\n",
       "      <td>0.00</td>\n",
       "      <td>0.5</td>\n",
       "      <td>0.00</td>\n",
       "      <td>0.00</td>\n",
       "      <td>1.0</td>\n",
       "      <td>23.97</td>\n",
       "      <td>NaN</td>\n",
       "      <td>NaN</td>\n",
       "      <td>19.000000</td>\n",
       "    </tr>\n",
       "    <tr>\n",
       "      <th>2964622</th>\n",
       "      <td>2</td>\n",
       "      <td>2024-01-31 23:07:23</td>\n",
       "      <td>2024-01-31 23:25:14</td>\n",
       "      <td>NaN</td>\n",
       "      <td>3.06</td>\n",
       "      <td>NaN</td>\n",
       "      <td>None</td>\n",
       "      <td>107</td>\n",
       "      <td>13</td>\n",
       "      <td>0</td>\n",
       "      <td>23.88</td>\n",
       "      <td>0.00</td>\n",
       "      <td>0.5</td>\n",
       "      <td>5.58</td>\n",
       "      <td>0.00</td>\n",
       "      <td>1.0</td>\n",
       "      <td>33.46</td>\n",
       "      <td>NaN</td>\n",
       "      <td>NaN</td>\n",
       "      <td>17.850000</td>\n",
       "    </tr>\n",
       "    <tr>\n",
       "      <th>2964623</th>\n",
       "      <td>1</td>\n",
       "      <td>2024-01-31 23:58:25</td>\n",
       "      <td>2024-02-01 00:13:30</td>\n",
       "      <td>NaN</td>\n",
       "      <td>8.10</td>\n",
       "      <td>NaN</td>\n",
       "      <td>None</td>\n",
       "      <td>138</td>\n",
       "      <td>75</td>\n",
       "      <td>0</td>\n",
       "      <td>32.40</td>\n",
       "      <td>7.75</td>\n",
       "      <td>0.5</td>\n",
       "      <td>7.29</td>\n",
       "      <td>6.94</td>\n",
       "      <td>1.0</td>\n",
       "      <td>55.88</td>\n",
       "      <td>NaN</td>\n",
       "      <td>NaN</td>\n",
       "      <td>15.083333</td>\n",
       "    </tr>\n",
       "  </tbody>\n",
       "</table>\n",
       "<p>2898906 rows × 20 columns</p>\n",
       "</div>"
      ],
      "text/plain": [
       "         VendorID tpep_pickup_datetime tpep_dropoff_datetime  passenger_count  \\\n",
       "0               2  2024-01-01 00:57:55   2024-01-01 01:17:43              1.0   \n",
       "1               1  2024-01-01 00:03:00   2024-01-01 00:09:36              1.0   \n",
       "2               1  2024-01-01 00:17:06   2024-01-01 00:35:01              1.0   \n",
       "3               1  2024-01-01 00:36:38   2024-01-01 00:44:56              1.0   \n",
       "4               1  2024-01-01 00:46:51   2024-01-01 00:52:57              1.0   \n",
       "...           ...                  ...                   ...              ...   \n",
       "2964619         2  2024-01-31 23:45:59   2024-01-31 23:54:36              NaN   \n",
       "2964620         1  2024-01-31 23:13:07   2024-01-31 23:27:52              NaN   \n",
       "2964621         2  2024-01-31 23:19:00   2024-01-31 23:38:00              NaN   \n",
       "2964622         2  2024-01-31 23:07:23   2024-01-31 23:25:14              NaN   \n",
       "2964623         1  2024-01-31 23:58:25   2024-02-01 00:13:30              NaN   \n",
       "\n",
       "         trip_distance  RatecodeID store_and_fwd_flag PULocationID  \\\n",
       "0                 1.72         1.0                  N          186   \n",
       "1                 1.80         1.0                  N          140   \n",
       "2                 4.70         1.0                  N          236   \n",
       "3                 1.40         1.0                  N           79   \n",
       "4                 0.80         1.0                  N          211   \n",
       "...                ...         ...                ...          ...   \n",
       "2964619           3.18         NaN               None          107   \n",
       "2964620           4.00         NaN               None          114   \n",
       "2964621           3.33         NaN               None          211   \n",
       "2964622           3.06         NaN               None          107   \n",
       "2964623           8.10         NaN               None          138   \n",
       "\n",
       "        DOLocationID  payment_type  fare_amount  extra  mta_tax  tip_amount  \\\n",
       "0                 79             2        17.70   1.00      0.5        0.00   \n",
       "1                236             1        10.00   3.50      0.5        3.75   \n",
       "2                 79             1        23.30   3.50      0.5        3.00   \n",
       "3                211             1        10.00   3.50      0.5        2.00   \n",
       "4                148             1         7.90   3.50      0.5        3.20   \n",
       "...              ...           ...          ...    ...      ...         ...   \n",
       "2964619          263             0        15.77   0.00      0.5        2.00   \n",
       "2964620          236             0        18.40   1.00      0.5        2.34   \n",
       "2964621           25             0        19.97   0.00      0.5        0.00   \n",
       "2964622           13             0        23.88   0.00      0.5        5.58   \n",
       "2964623           75             0        32.40   7.75      0.5        7.29   \n",
       "\n",
       "         tolls_amount  improvement_surcharge  total_amount  \\\n",
       "0                0.00                    1.0         22.70   \n",
       "1                0.00                    1.0         18.75   \n",
       "2                0.00                    1.0         31.30   \n",
       "3                0.00                    1.0         17.00   \n",
       "4                0.00                    1.0         16.10   \n",
       "...               ...                    ...           ...   \n",
       "2964619          0.00                    1.0         21.77   \n",
       "2964620          0.00                    1.0         25.74   \n",
       "2964621          0.00                    1.0         23.97   \n",
       "2964622          0.00                    1.0         33.46   \n",
       "2964623          6.94                    1.0         55.88   \n",
       "\n",
       "         congestion_surcharge  Airport_fee   duration  \n",
       "0                         2.5          0.0  19.800000  \n",
       "1                         2.5          0.0   6.600000  \n",
       "2                         2.5          0.0  17.916667  \n",
       "3                         2.5          0.0   8.300000  \n",
       "4                         2.5          0.0   6.100000  \n",
       "...                       ...          ...        ...  \n",
       "2964619                   NaN          NaN   8.616667  \n",
       "2964620                   NaN          NaN  14.750000  \n",
       "2964621                   NaN          NaN  19.000000  \n",
       "2964622                   NaN          NaN  17.850000  \n",
       "2964623                   NaN          NaN  15.083333  \n",
       "\n",
       "[2898906 rows x 20 columns]"
      ]
     },
     "execution_count": 7,
     "metadata": {},
     "output_type": "execute_result"
    }
   ],
   "source": [
    "df_train"
   ]
  },
  {
   "cell_type": "code",
   "execution_count": 8,
   "id": "f32fe7b0",
   "metadata": {},
   "outputs": [
    {
     "data": {
      "text/plain": [
       "(2898906, 2938060)"
      ]
     },
     "execution_count": 8,
     "metadata": {},
     "output_type": "execute_result"
    }
   ],
   "source": [
    "len(df_train), len(df_val)"
   ]
  },
  {
   "cell_type": "code",
   "execution_count": 9,
   "id": "f06803f4",
   "metadata": {},
   "outputs": [],
   "source": [
    "\n",
    "df_train['PU_DO'] = df_train['PULocationID'] + '_' + df_train['DOLocationID']\n",
    "df_val['PU_DO'] = df_val['PULocationID'] + '_' + df_val['DOLocationID']"
   ]
  },
  {
   "cell_type": "code",
   "execution_count": 10,
   "id": "60f872ac",
   "metadata": {},
   "outputs": [],
   "source": [
    "categorical = ['PU_DO'] #'PULocationID', 'DOLocationID']\n",
    "numerical = ['trip_distance']\n",
    "\n",
    "dv = DictVectorizer()\n",
    "\n",
    "train_dicts = df_train[categorical + numerical].to_dict(orient='records')\n",
    "X_train = dv.fit_transform(train_dicts)\n",
    "\n",
    "val_dicts = df_val[categorical + numerical].to_dict(orient='records')\n",
    "X_val = dv.transform(val_dicts)"
   ]
  },
  {
   "cell_type": "code",
   "execution_count": 11,
   "id": "0d617120",
   "metadata": {},
   "outputs": [],
   "source": [
    "target = 'duration'\n",
    "y_train = df_train[target].values\n",
    "y_val = df_val[target].values"
   ]
  },
  {
   "cell_type": "code",
   "execution_count": 12,
   "id": "ab45d25a",
   "metadata": {},
   "outputs": [
    {
     "data": {
      "text/plain": [
       "30.353066020774595"
      ]
     },
     "execution_count": 12,
     "metadata": {},
     "output_type": "execute_result"
    }
   ],
   "source": [
    "\n",
    "lr = LinearRegression()\n",
    "lr.fit(X_train, y_train)\n",
    "\n",
    "y_pred = lr.predict(X_val)\n",
    "\n",
    "mean_squared_error(y_val, y_pred)"
   ]
  },
  {
   "cell_type": "code",
   "execution_count": 13,
   "id": "985b4335",
   "metadata": {},
   "outputs": [],
   "source": [
    "import os\n",
    "os.makedirs(\"models\", exist_ok=True)"
   ]
  },
  {
   "cell_type": "code",
   "execution_count": 14,
   "id": "17649ab1",
   "metadata": {},
   "outputs": [],
   "source": [
    "with open('models/lin_reg.bin', 'wb') as f_out:\n",
    "    pickle.dump((dv, lr), f_out)"
   ]
  },
  {
   "cell_type": "code",
   "execution_count": 15,
   "id": "3b326866",
   "metadata": {},
   "outputs": [],
   "source": [
    "with mlflow.start_run():\n",
    "\n",
    "    mlflow.set_tag(\"Machine Learning Engineer\", \"Fahlevi\")\n",
    "\n",
    "    mlflow.log_param(\"train-data-path\", \"yellow_tripdata_2024-01.parquet\")\n",
    "    mlflow.log_param(\"valid-data-path\", \"yellow_tripdata_2024-02.parquet\")\n",
    "\n",
    "    alpha = 0.1\n",
    "    mlflow.log_param(\"alpha\", alpha)\n",
    "    lr = Lasso(alpha)\n",
    "    lr.fit(X_train, y_train)\n",
    "\n",
    "    y_pred = lr.predict(X_val)\n",
    "    rmse = mean_squared_error(y_val, y_pred)\n",
    "    mlflow.log_metric(\"rmse\", rmse)\n",
    "\n",
    "    mlflow.log_artifact(local_path=\"models/lin_reg.bin\", artifact_path=\"models_pickle\")"
   ]
  },
  {
   "cell_type": "code",
   "execution_count": 16,
   "id": "cd21ce88",
   "metadata": {},
   "outputs": [],
   "source": [
    "import xgboost as xgb"
   ]
  },
  {
   "cell_type": "code",
   "execution_count": 17,
   "id": "a811e073",
   "metadata": {},
   "outputs": [],
   "source": [
    "from hyperopt import fmin, tpe, hp, STATUS_OK, Trials\n",
    "from hyperopt.pyll import scope"
   ]
  },
  {
   "cell_type": "code",
   "execution_count": 18,
   "id": "73debe4c",
   "metadata": {},
   "outputs": [],
   "source": [
    "train = xgb.DMatrix(X_train, label=y_train)\n",
    "valid = xgb.DMatrix(X_val, label=y_val)"
   ]
  },
  {
   "cell_type": "code",
   "execution_count": 19,
   "id": "4b3c3802",
   "metadata": {},
   "outputs": [],
   "source": [
    "def objective(params):\n",
    "    with mlflow.start_run():\n",
    "        mlflow.set_tag(\"model\", \"xgboost\")\n",
    "        mlflow.log_params(params)\n",
    "        booster = xgb.train(\n",
    "            params=params,\n",
    "            dtrain=train,\n",
    "            num_boost_round=50,\n",
    "            evals=[(valid, 'validation')],\n",
    "            early_stopping_rounds=50\n",
    "        )\n",
    "        y_pred = booster.predict(valid)\n",
    "        rmse = np.sqrt(mean_squared_error(y_val, y_pred))\n",
    "        mlflow.log_metric(\"rmse\", rmse)\n",
    "\n",
    "    return {'loss': rmse, 'status': STATUS_OK}"
   ]
  },
  {
   "cell_type": "code",
   "execution_count": 20,
   "id": "812ae14f",
   "metadata": {},
   "outputs": [
    {
     "name": "stdout",
     "output_type": "stream",
     "text": [
      "  0%|          | 0/1 [00:00<?, ?trial/s, best loss=?]"
     ]
    },
    {
     "name": "stderr",
     "output_type": "stream",
     "text": [
      "c:\\Users\\rozak\\Downloads\\projects\\My-MLOps-Zoomcamp\\.venv\\Lib\\site-packages\\xgboost\\callback.py:386: UserWarning: [14:20:56] WARNING: C:\\actions-runner\\_work\\xgboost\\xgboost\\src\\objective\\regression_obj.cu:250: reg:linear is now deprecated in favor of reg:squarederror.\n",
      "  self.starting_round = model.num_boosted_rounds()\n",
      "\n"
     ]
    },
    {
     "name": "stdout",
     "output_type": "stream",
     "text": [
      "[0]\tvalidation-rmse:6.84311                          \n",
      "[1]\tvalidation-rmse:5.75467                          \n",
      "[2]\tvalidation-rmse:5.43692                          \n",
      "[3]\tvalidation-rmse:5.32940                          \n",
      "[4]\tvalidation-rmse:5.28716                          \n",
      "[5]\tvalidation-rmse:5.26351                          \n",
      "[6]\tvalidation-rmse:5.25158                          \n",
      "[7]\tvalidation-rmse:5.24127                          \n",
      "[8]\tvalidation-rmse:5.23609                          \n",
      "[9]\tvalidation-rmse:5.22991                          \n",
      "[10]\tvalidation-rmse:5.22577                         \n",
      "[11]\tvalidation-rmse:5.22186                         \n",
      "[12]\tvalidation-rmse:5.21769                         \n",
      "[13]\tvalidation-rmse:5.21411                         \n",
      "[14]\tvalidation-rmse:5.21062                         \n",
      "[15]\tvalidation-rmse:5.20655                         \n",
      "[16]\tvalidation-rmse:5.20358                         \n",
      "[17]\tvalidation-rmse:5.20014                         \n",
      "[18]\tvalidation-rmse:5.19661                         \n",
      "[19]\tvalidation-rmse:5.19296                         \n",
      "[20]\tvalidation-rmse:5.18960                         \n",
      "[21]\tvalidation-rmse:5.18679                         \n",
      "[22]\tvalidation-rmse:5.18428                         \n",
      "[23]\tvalidation-rmse:5.17879                         \n",
      "[24]\tvalidation-rmse:5.17553                         \n",
      "[25]\tvalidation-rmse:5.17308                         \n",
      "[26]\tvalidation-rmse:5.17070                         \n",
      "[27]\tvalidation-rmse:5.16843                         \n",
      "[28]\tvalidation-rmse:5.16620                         \n",
      "[29]\tvalidation-rmse:5.16333                         \n",
      "[30]\tvalidation-rmse:5.16114                         \n",
      "[31]\tvalidation-rmse:5.15923                         \n",
      "[32]\tvalidation-rmse:5.15622                         \n",
      "[33]\tvalidation-rmse:5.15427                         \n",
      "[34]\tvalidation-rmse:5.15229                         \n",
      "[35]\tvalidation-rmse:5.15067                         \n",
      "[36]\tvalidation-rmse:5.14858                         \n",
      "[37]\tvalidation-rmse:5.14630                         \n",
      "[38]\tvalidation-rmse:5.14454                         \n",
      "[39]\tvalidation-rmse:5.14313                         \n",
      "[40]\tvalidation-rmse:5.14154                         \n",
      "[41]\tvalidation-rmse:5.13992                         \n",
      "[42]\tvalidation-rmse:5.13816                         \n",
      "[43]\tvalidation-rmse:5.13637                         \n",
      "[44]\tvalidation-rmse:5.13452                         \n",
      "[45]\tvalidation-rmse:5.13308                         \n",
      "[46]\tvalidation-rmse:5.13147                         \n",
      "[47]\tvalidation-rmse:5.13010                         \n",
      "[48]\tvalidation-rmse:5.12847                         \n",
      "[49]\tvalidation-rmse:5.12501                         \n",
      "100%|██████████| 1/1 [02:31<00:00, 151.29s/trial, best loss: 5.125005027913873]\n"
     ]
    }
   ],
   "source": [
    "search_space = {\n",
    "    'max_depth': scope.int(hp.quniform('max_depth', 4, 50, 1)),\n",
    "    'learning_rate': hp.loguniform('learning_rate', -3, 0),\n",
    "    'reg_alpha': hp.loguniform('reg_alpha', -5, -1),\n",
    "    'reg_lambda': hp.loguniform('reg_lambda', -6, -1),\n",
    "    'min_child_weight': hp.loguniform('min_child_weight', -1, 3),\n",
    "    'objective': 'reg:linear',\n",
    "    'seed': 42\n",
    "}\n",
    "\n",
    "best_result = fmin(\n",
    "    fn=objective,\n",
    "    space=search_space,\n",
    "    algo=tpe.suggest,\n",
    "    max_evals=1,\n",
    "    trials=Trials()\n",
    ")"
   ]
  },
  {
   "cell_type": "code",
   "execution_count": 21,
   "id": "007e1643",
   "metadata": {},
   "outputs": [],
   "source": [
    "params={\n",
    "    'learning_rate':0.5315026836051042,\n",
    "'max_depth': 33,\n",
    "'min_child_weight':2.3065027888594636,\n",
    "'objective': 'reg:linear',\n",
    "'reg_alpha':0.007106204421482791,\n",
    "'reg_lambda':0.005102984304705061,\n",
    "'seed':42\n",
    "}"
   ]
  },
  {
   "cell_type": "code",
   "execution_count": 22,
   "id": "095f00ab",
   "metadata": {},
   "outputs": [
    {
     "name": "stderr",
     "output_type": "stream",
     "text": [
      "2025/03/29 14:37:39 WARNING mlflow.utils.autologging_utils: MLflow xgboost autologging is known to be compatible with 1.4.2 <= xgboost <= 2.1.4, but the installed version is 3.0.0. If you encounter errors during autologging, try upgrading / downgrading xgboost to a compatible version, or try upgrading MLflow.\n",
      "2025/03/29 14:37:39 INFO mlflow.utils.autologging_utils: Created MLflow autologging run with ID 'ee52ad8079dc48d19bb11c97db906289', which will track hyperparameters, performance metrics, model artifacts, and lineage information for the current xgboost workflow\n",
      "2025/03/29 14:37:39 WARNING mlflow.xgboost: Failed to log dataset information to MLflow Tracking. Reason: Unable to allocate 259. GiB for an array with shape (2898906, 24016) and data type float32\n",
      "c:\\Users\\rozak\\Downloads\\projects\\My-MLOps-Zoomcamp\\.venv\\Lib\\site-packages\\xgboost\\callback.py:386: UserWarning: [14:37:39] WARNING: C:\\actions-runner\\_work\\xgboost\\xgboost\\src\\objective\\regression_obj.cu:250: reg:linear is now deprecated in favor of reg:squarederror.\n",
      "  self.starting_round = model.num_boosted_rounds()\n"
     ]
    },
    {
     "name": "stdout",
     "output_type": "stream",
     "text": [
      "[0]\tvalidation-rmse:6.84311\n",
      "[1]\tvalidation-rmse:5.75467\n",
      "[2]\tvalidation-rmse:5.43692\n",
      "[3]\tvalidation-rmse:5.32940\n",
      "[4]\tvalidation-rmse:5.28716\n",
      "[5]\tvalidation-rmse:5.26351\n",
      "[6]\tvalidation-rmse:5.25158\n",
      "[7]\tvalidation-rmse:5.24127\n",
      "[8]\tvalidation-rmse:5.23609\n",
      "[9]\tvalidation-rmse:5.22991\n",
      "[10]\tvalidation-rmse:5.22577\n",
      "[11]\tvalidation-rmse:5.22186\n",
      "[12]\tvalidation-rmse:5.21769\n",
      "[13]\tvalidation-rmse:5.21411\n",
      "[14]\tvalidation-rmse:5.21062\n",
      "[15]\tvalidation-rmse:5.20655\n",
      "[16]\tvalidation-rmse:5.20358\n",
      "[17]\tvalidation-rmse:5.20014\n",
      "[18]\tvalidation-rmse:5.19661\n",
      "[19]\tvalidation-rmse:5.19296\n",
      "[20]\tvalidation-rmse:5.18960\n",
      "[21]\tvalidation-rmse:5.18679\n",
      "[22]\tvalidation-rmse:5.18428\n",
      "[23]\tvalidation-rmse:5.17879\n",
      "[24]\tvalidation-rmse:5.17553\n",
      "[25]\tvalidation-rmse:5.17308\n",
      "[26]\tvalidation-rmse:5.17070\n",
      "[27]\tvalidation-rmse:5.16843\n",
      "[28]\tvalidation-rmse:5.16620\n",
      "[29]\tvalidation-rmse:5.16333\n",
      "[30]\tvalidation-rmse:5.16114\n",
      "[31]\tvalidation-rmse:5.15923\n",
      "[32]\tvalidation-rmse:5.15622\n",
      "[33]\tvalidation-rmse:5.15427\n",
      "[34]\tvalidation-rmse:5.15229\n",
      "[35]\tvalidation-rmse:5.15067\n",
      "[36]\tvalidation-rmse:5.14858\n",
      "[37]\tvalidation-rmse:5.14630\n",
      "[38]\tvalidation-rmse:5.14454\n",
      "[39]\tvalidation-rmse:5.14313\n",
      "[40]\tvalidation-rmse:5.14154\n",
      "[41]\tvalidation-rmse:5.13992\n",
      "[42]\tvalidation-rmse:5.13816\n",
      "[43]\tvalidation-rmse:5.13637\n",
      "[44]\tvalidation-rmse:5.13452\n",
      "[45]\tvalidation-rmse:5.13308\n",
      "[46]\tvalidation-rmse:5.13147\n",
      "[47]\tvalidation-rmse:5.13010\n",
      "[48]\tvalidation-rmse:5.12847\n",
      "[49]\tvalidation-rmse:5.12501\n"
     ]
    },
    {
     "name": "stderr",
     "output_type": "stream",
     "text": [
      "2025/03/29 14:40:18 WARNING mlflow.xgboost: Failed to infer model signature: could not sample data to infer model signature: please ensure that autologging is enabled before constructing the dataset.\n",
      "2025/03/29 14:40:18 WARNING mlflow.utils.autologging_utils: MLflow autologging encountered a warning: \"c:\\Users\\rozak\\Downloads\\projects\\My-MLOps-Zoomcamp\\.venv\\Lib\\site-packages\\mlflow\\xgboost\\__init__.py:168: UserWarning: [14:40:18] WARNING: C:\\actions-runner\\_work\\xgboost\\xgboost\\src\\c_api\\c_api.cc:1427: Saving model in the UBJSON format as default.  You can use file extension: `json`, `ubj` or `deprecated` to choose between formats.\"\n",
      "2025/03/29 14:40:31 WARNING mlflow.models.model: Model logged without a signature and input example. Please set `input_example` parameter when logging the model to auto infer the model signature.\n"
     ]
    }
   ],
   "source": [
    "mlflow.xgboost.autolog() \n",
    "booster = xgb.train(\n",
    "    params=params,\n",
    "    dtrain=train,\n",
    "    num_boost_round=50,\n",
    "    evals=[(valid, 'validation')],\n",
    "    early_stopping_rounds=50\n",
    ")\n",
    "y_pred = booster.predict(valid)\n",
    "rmse = np.sqrt(mean_squared_error(y_val, y_pred))"
   ]
  },
  {
   "cell_type": "code",
   "execution_count": 20,
   "id": "bef81dfc",
   "metadata": {},
   "outputs": [],
   "source": [
    "mlflow.xgboost.autolog(disable=True)"
   ]
  },
  {
   "cell_type": "code",
   "execution_count": 21,
   "id": "c789a6a0",
   "metadata": {},
   "outputs": [
    {
     "name": "stderr",
     "output_type": "stream",
     "text": [
      "c:\\Users\\rozak\\Downloads\\projects\\My-MLOps-Zoomcamp\\.venv\\Lib\\site-packages\\xgboost\\callback.py:386: UserWarning: [15:51:29] WARNING: C:\\actions-runner\\_work\\xgboost\\xgboost\\src\\objective\\regression_obj.cu:250: reg:linear is now deprecated in favor of reg:squarederror.\n",
      "  self.starting_round = model.num_boosted_rounds()\n"
     ]
    },
    {
     "name": "stdout",
     "output_type": "stream",
     "text": [
      "[0]\tvalidation-rmse:6.84311\n",
      "[1]\tvalidation-rmse:5.75467\n",
      "[2]\tvalidation-rmse:5.43692\n",
      "[3]\tvalidation-rmse:5.32940\n",
      "[4]\tvalidation-rmse:5.28716\n",
      "[5]\tvalidation-rmse:5.26351\n",
      "[6]\tvalidation-rmse:5.25158\n",
      "[7]\tvalidation-rmse:5.24127\n",
      "[8]\tvalidation-rmse:5.23609\n",
      "[9]\tvalidation-rmse:5.22991\n",
      "[10]\tvalidation-rmse:5.22577\n",
      "[11]\tvalidation-rmse:5.22186\n",
      "[12]\tvalidation-rmse:5.21769\n",
      "[13]\tvalidation-rmse:5.21411\n",
      "[14]\tvalidation-rmse:5.21062\n",
      "[15]\tvalidation-rmse:5.20655\n",
      "[16]\tvalidation-rmse:5.20358\n",
      "[17]\tvalidation-rmse:5.20014\n",
      "[18]\tvalidation-rmse:5.19661\n",
      "[19]\tvalidation-rmse:5.19296\n",
      "[20]\tvalidation-rmse:5.18960\n",
      "[21]\tvalidation-rmse:5.18679\n",
      "[22]\tvalidation-rmse:5.18428\n",
      "[23]\tvalidation-rmse:5.17879\n",
      "[24]\tvalidation-rmse:5.17553\n",
      "[25]\tvalidation-rmse:5.17308\n",
      "[26]\tvalidation-rmse:5.17070\n",
      "[27]\tvalidation-rmse:5.16843\n",
      "[28]\tvalidation-rmse:5.16620\n",
      "[29]\tvalidation-rmse:5.16333\n",
      "[30]\tvalidation-rmse:5.16114\n",
      "[31]\tvalidation-rmse:5.15923\n",
      "[32]\tvalidation-rmse:5.15622\n",
      "[33]\tvalidation-rmse:5.15427\n",
      "[34]\tvalidation-rmse:5.15229\n",
      "[35]\tvalidation-rmse:5.15067\n",
      "[36]\tvalidation-rmse:5.14858\n",
      "[37]\tvalidation-rmse:5.14630\n",
      "[38]\tvalidation-rmse:5.14454\n",
      "[39]\tvalidation-rmse:5.14313\n",
      "[40]\tvalidation-rmse:5.14154\n",
      "[41]\tvalidation-rmse:5.13992\n",
      "[42]\tvalidation-rmse:5.13816\n",
      "[43]\tvalidation-rmse:5.13637\n",
      "[44]\tvalidation-rmse:5.13452\n",
      "[45]\tvalidation-rmse:5.13308\n",
      "[46]\tvalidation-rmse:5.13147\n",
      "[47]\tvalidation-rmse:5.13010\n",
      "[48]\tvalidation-rmse:5.12847\n",
      "[49]\tvalidation-rmse:5.12501\n"
     ]
    },
    {
     "name": "stderr",
     "output_type": "stream",
     "text": [
      "c:\\Users\\rozak\\Downloads\\projects\\My-MLOps-Zoomcamp\\.venv\\Lib\\site-packages\\mlflow\\xgboost\\__init__.py:168: UserWarning: [15:56:59] WARNING: C:\\actions-runner\\_work\\xgboost\\xgboost\\src\\c_api\\c_api.cc:1427: Saving model in the UBJSON format as default.  You can use file extension: `json`, `ubj` or `deprecated` to choose between formats.\n",
      "  xgb_model.save_model(model_data_path)\n",
      "2025/03/29 15:57:18 WARNING mlflow.models.model: Model logged without a signature and input example. Please set `input_example` parameter when logging the model to auto infer the model signature.\n"
     ]
    }
   ],
   "source": [
    "with mlflow.start_run():\n",
    "    best_params={\n",
    "    'learning_rate':0.5315026836051042,\n",
    "'max_depth': 33,\n",
    "'min_child_weight':2.3065027888594636,\n",
    "'objective': 'reg:linear',\n",
    "'reg_alpha':0.007106204421482791,\n",
    "'reg_lambda':0.005102984304705061,\n",
    "'seed':42\n",
    "}\n",
    "    mlflow.log_params(best_params) \n",
    "\n",
    "    booster = xgb.train(\n",
    "        params=best_params,\n",
    "        dtrain=train,\n",
    "        num_boost_round=50,\n",
    "        evals=[(valid, 'validation')],\n",
    "        early_stopping_rounds=50\n",
    "    )\n",
    "    y_pred = booster.predict(valid)\n",
    "    rmse = np.sqrt(mean_squared_error(y_val, y_pred))\n",
    "    mlflow.log_metric(\"rmse\",rmse)\n",
    "    \n",
    "    with open('models/preprocessor.b',\"wb\") as f_out:\n",
    "        pickle.dump(dv,f_out)\n",
    "    \n",
    "    mlflow.log_artifact('models/preprocessor.b',artifact_path='preprocessor')\n",
    "    \n",
    "    mlflow.xgboost.log_model(booster,artifact_path='models_mlflow')"
   ]
  },
  {
   "cell_type": "code",
   "execution_count": 22,
   "id": "a89b7688",
   "metadata": {},
   "outputs": [],
   "source": [
    "import mlflow\n",
    "logged_model = 'runs:/70ac6f7b08ef42b3b4e7115810836c49/models_mlflow'\n",
    "\n",
    "# Load model as a PyFuncModel.\n",
    "loaded_model = mlflow.pyfunc.load_model(logged_model)"
   ]
  },
  {
   "cell_type": "code",
   "execution_count": 23,
   "id": "4fcb70fb",
   "metadata": {},
   "outputs": [
    {
     "data": {
      "text/plain": [
       "mlflow.pyfunc.loaded_model:\n",
       "  artifact_path: models_mlflow\n",
       "  flavor: mlflow.xgboost\n",
       "  run_id: 70ac6f7b08ef42b3b4e7115810836c49"
      ]
     },
     "execution_count": 23,
     "metadata": {},
     "output_type": "execute_result"
    }
   ],
   "source": [
    "loaded_model"
   ]
  },
  {
   "cell_type": "code",
   "execution_count": 24,
   "id": "1e06371d",
   "metadata": {},
   "outputs": [],
   "source": [
    "xgboost_model=mlflow.xgboost.load_model(logged_model)"
   ]
  },
  {
   "cell_type": "code",
   "execution_count": 25,
   "id": "5b8cc3b5",
   "metadata": {},
   "outputs": [
    {
     "data": {
      "text/plain": [
       "<xgboost.core.Booster at 0x20d68bbfbb0>"
      ]
     },
     "execution_count": 25,
     "metadata": {},
     "output_type": "execute_result"
    }
   ],
   "source": [
    "xgboost_model"
   ]
  },
  {
   "cell_type": "code",
   "execution_count": 26,
   "id": "85df2efc",
   "metadata": {},
   "outputs": [
    {
     "data": {
      "text/plain": [
       "array([24.276075 , 21.112692 , 44.302418 ,  9.859947 , 16.920456 ,\n",
       "        6.8124347, 17.273108 , 14.940294 , 10.124242 , 10.354489 ],\n",
       "      dtype=float32)"
      ]
     },
     "execution_count": 26,
     "metadata": {},
     "output_type": "execute_result"
    }
   ],
   "source": [
    "    y_pred = xgboost_model.predict(valid)\n",
    "    y_pred[:10]"
   ]
  },
  {
   "cell_type": "code",
   "execution_count": null,
   "id": "30056c48",
   "metadata": {},
   "outputs": [],
   "source": []
  }
 ],
 "metadata": {
  "kernelspec": {
   "display_name": ".venv",
   "language": "python",
   "name": "python3"
  },
  "language_info": {
   "codemirror_mode": {
    "name": "ipython",
    "version": 3
   },
   "file_extension": ".py",
   "mimetype": "text/x-python",
   "name": "python",
   "nbconvert_exporter": "python",
   "pygments_lexer": "ipython3",
   "version": "3.13.2"
  }
 },
 "nbformat": 4,
 "nbformat_minor": 5
}
